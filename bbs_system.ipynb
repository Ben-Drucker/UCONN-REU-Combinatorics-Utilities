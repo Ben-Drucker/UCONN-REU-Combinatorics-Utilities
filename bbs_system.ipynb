{
 "cells": [
  {
   "cell_type": "code",
   "execution_count": 61,
   "metadata": {},
   "outputs": [],
   "source": [
    "# BBS is apparently already implemented, but seemed more complicated than we needed?\n",
    "# I couldn't figure out how to use it\n",
    "def BBS_move(old_state):\n",
    "    # takes a list containing the integers 1-n (as well as an\n",
    "    # unspecified # of zeroes) and preforms a \"Fukada\" BBS move on it\n",
    "\n",
    "    state = []\n",
    "    for elt in old_state:\n",
    "        state.append(elt)\n",
    "        \n",
    "    # naive method of preforming a move, runs in cubic? time\n",
    "    # still fast enough for relatively small permuations \n",
    "    n = max(state)\n",
    "    for i in range(1,n+1):\n",
    "        # checks the location of each integer 1-n\n",
    "        j = state.index(i)\n",
    "        # if there is a zero to the right of i, preform a swap\n",
    "        if 0 in state[j+1:]:\n",
    "            k = state[j+1:].index(0)\n",
    "            state[j], state[k+j+1] = state[k+j+1], state[j]\n",
    "        # otherwise, stick i on the end of the list and put a zero where i was\n",
    "        else:\n",
    "            state.append(i)\n",
    "            state[j] = 0\n",
    "    \n",
    "    return state\n",
    "\n",
    "def BBS(arrangement, t):\n",
    "    system = [arrangement]\n",
    "    for move in range(t):\n",
    "        step = BBS_move(system[move])\n",
    "        system.append(step)\n",
    "    # returns only the state at time t, but can modify to return all intermediate steps\n",
    "    return system[t]\n",
    "\n",
    "def SolitonContent(config):\n",
    "    # takes an arrangement of balls (as a list) and returns its SolitonContent as a Tableau\n",
    "    # CONTINGENT on BBS always being sorted after n moves\n",
    "    # it shouldn't be too hard to insert logic that checks to make sure we've reached when we reach a steady state\n",
    "    # just feels like too much work right now\n",
    "    # besides, it seems quite likely that in fact bbs IS always sorted after n moves\n",
    "    \n",
    "    # find the BBS configuration at t = n\n",
    "    n = max(config)\n",
    "    final = BBS(config, n)\n",
    "    \n",
    "    # create a list of lists sc that will store the soliton content\n",
    "    sc = [[]]\n",
    "    # sol_num tracks which soliton we're on (from left to right)\n",
    "    sol_num = 0\n",
    "    l = len(final)\n",
    "    for i in range(l):\n",
    "        if final[i] != 0:\n",
    "            # put the current value on the end of the current soliton\n",
    "            sc[sol_num].append(final[i])\n",
    "            if i < l - 1:\n",
    "                if final[i] >= final[i + 1]:\n",
    "                    # if the next entry is smaller than current one, make a new soliton\n",
    "                    sol_num = sol_num + 1\n",
    "                    sc.append([])\n",
    "    # sc has the solitons in the reverse order, so we have to reverse it\n",
    "    return Tableau(sc[::-1])\n",
    "    \n",
    "# TODO: implement backward moves\n"
   ]
  },
  {
   "cell_type": "code",
   "execution_count": 63,
   "metadata": {},
   "outputs": [
    {
     "name": "stdout",
     "output_type": "stream",
     "text": [
      "[0, 4, 0, 2, 6, 0, 0, 1, 3, 5, 7] \n",
      "\n",
      "[0, 0, 4, 0, 0, 2, 6, 0, 0, 0, 0, 1, 3, 5, 7] \n",
      "\n",
      "  1  3  5  7\n",
      "  2  6\n",
      "  4\n"
     ]
    }
   ],
   "source": [
    "# examples:\n",
    "pi = [4,2,6,1,3,5,7]\n",
    "\n",
    "# BBS_move does a single \"Fukada\" move\n",
    "print(BBS_move(pi), '\\n')\n",
    "\n",
    "# BBS calls for a parameter t and returns the result after t moves\n",
    "t = 2\n",
    "print(BBS(pi, t), '\\n')\n",
    "\n",
    "# SolitonContent returns the SolitonContent of a permuation\n",
    "SolitonContent(pi).pp() # pretty printing"
   ]
  }
 ],
 "metadata": {
  "kernelspec": {
   "display_name": "SageMath 9.1",
   "language": "sage",
   "name": "sagemath"
  },
  "language_info": {
   "codemirror_mode": {
    "name": "ipython",
    "version": 3
   },
   "file_extension": ".py",
   "mimetype": "text/x-python",
   "name": "python",
   "nbconvert_exporter": "python",
   "pygments_lexer": "ipython3",
   "version": "3.7.3"
  }
 },
 "nbformat": 4,
 "nbformat_minor": 2
}
