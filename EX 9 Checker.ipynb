{
 "cells": [
  {
   "cell_type": "code",
   "execution_count": 155,
   "metadata": {},
   "outputs": [
    {
     "name": "stdout",
     "output_type": "stream",
     "text": [
      "n= 1\n",
      "[21]\n",
      "=====================\n",
      "n= 2\n",
      "[213]#S2#[231]\n",
      "[321]\n",
      "=====================\n",
      "n= 3\n",
      "[2134][2143]#S2#[2413]\n",
      "[4213][4231]#S2#[4321]\n",
      "=====================\n",
      "n= 4\n",
      "[21345][21435]#S2#[24135][24153]\n",
      "[42153][42513]#S2#[45213][45231]\n",
      "[54231][54321]\n",
      "=====================\n",
      "n= 5\n",
      "[213456][214356][214365]#S2#[241365][241635]\n",
      "[421635][426135][426153]#S2#[462153][462513]\n",
      "[642513][645213][645231]#S2#[654231][654321]\n",
      "=====================\n",
      "n= 6\n",
      "[2134567][2143567][2143657]#S2#[2413657][2416357][2416375]\n",
      "[4216375][4261375][4261735]#S2#[4621735][4627135][4627153]\n",
      "[6427153][6472153][6472513]#S2#[6742513][6745213][6745231]\n",
      "[7645231][7654231][7654321]\n",
      "=====================\n"
     ]
    }
   ],
   "source": [
    "def main():\n",
    "    computeS_ks(1,6) #Starting and Ending n-values. Example output below when run.\n",
    "main()\n",
    "\n",
    "# \"#S2#\" means that the even k's in S_k's are now starting."
   ]
  },
  {
   "cell_type": "code",
   "execution_count": 151,
   "metadata": {},
   "outputs": [],
   "source": [
    "def computeS_ks(start,end):\n",
    "    for n in range(start,end+1):\n",
    "        print(\"n=\",n)\n",
    "        ident = list(Permutations(n+1).identity())\n",
    "        stopPerm = []\n",
    "        for i in range(len(ident)-1, -1, -1):\n",
    "            stopPerm.append(ident[i])\n",
    "        perm = ident\n",
    "        Nums = generateTranspositions(n)\n",
    "        i=0\n",
    "        passString = \"\"\n",
    "        while perm != stopPerm:\n",
    "            if i < n:\n",
    "                swap(perm, Nums[i]-1, Nums[i])\n",
    "                i += 1\n",
    "                assert(passConjOdd(perm))==True\n",
    "                assert(passConjEven(perm))==True\n",
    "                if Nums[i-1] ==2:\n",
    "                    passString += \"#S2#\"\n",
    "                passString += printListNicely(perm)\n",
    "            else: \n",
    "                i = 0\n",
    "                swap(perm, Nums[i]-1, Nums[i])\n",
    "                i += 1\n",
    "                assert(passConjOdd(perm))==True\n",
    "                assert(passConjEven(perm))==True\n",
    "                passString += \"\\n\" + printListNicely(perm)\n",
    "        #fp = open(\"Output.txt\", \"w\")\n",
    "        #fp.write(passString)\n",
    "        #fp.close()\n",
    "        print(passString)\n",
    "        print(\"=====================\")"
   ]
  },
  {
   "cell_type": "code",
   "execution_count": 106,
   "metadata": {},
   "outputs": [],
   "source": [
    "def passConjOdd(perm):\n",
    "    ok = True\n",
    "    for elt in perm:\n",
    "        bigger = []\n",
    "        smaller = []\n",
    "        if elt %2 !=0:\n",
    "            ind = perm.index(elt)\n",
    "            for subelt in perm[ind:]:\n",
    "                if subelt>elt:\n",
    "                    bigger.append(subelt)\n",
    "                if subelt <elt:\n",
    "                    smaller.append(subelt)\n",
    "        if len(bigger)!=0 and len(smaller)!=0:\n",
    "            return False\n",
    "    return True"
   ]
  },
  {
   "cell_type": "code",
   "execution_count": 114,
   "metadata": {},
   "outputs": [],
   "source": [
    "def passConjEven(perm):\n",
    "    ok = True\n",
    "    for elt in perm:\n",
    "        bigger = []\n",
    "        smaller = []\n",
    "        if elt %2 ==0:\n",
    "            ind = perm.index(elt)\n",
    "            for subelt in perm[:ind+1]:\n",
    "                if subelt>elt:\n",
    "                    bigger.append(subelt)\n",
    "                if subelt <elt:\n",
    "                    smaller.append(subelt)\n",
    "        if len(bigger)!=0 and len(smaller)!=0:\n",
    "            return False\n",
    "    return True"
   ]
  },
  {
   "cell_type": "code",
   "execution_count": 123,
   "metadata": {},
   "outputs": [],
   "source": [
    "def generateTranspositions(n):\n",
    "    oddNums = []\n",
    "    evenNums = []\n",
    "    Nums = []\n",
    "    for i in range(1, n+1):\n",
    "        if i%2==0:\n",
    "            evenNums.append(i)\n",
    "        else:\n",
    "            oddNums.append(i)\n",
    "    for elt in oddNums:\n",
    "        Nums.append(elt)\n",
    "    for elt in evenNums:\n",
    "        Nums.append(elt)\n",
    "    return Nums"
   ]
  },
  {
   "cell_type": "code",
   "execution_count": 141,
   "metadata": {},
   "outputs": [],
   "source": [
    "def printListNicely(ls):\n",
    "    outputStr = \"[\"\n",
    "    for elt in ls:\n",
    "        outputStr+=str(elt)\n",
    "    outputStr+=\"]\"\n",
    "    return outputStr"
   ]
  }
 ],
 "metadata": {
  "kernelspec": {
   "display_name": "SageMath 9.1",
   "language": "sage",
   "name": "sagemath"
  },
  "language_info": {
   "codemirror_mode": {
    "name": "ipython",
    "version": 3
   },
   "file_extension": ".py",
   "mimetype": "text/x-python",
   "name": "python",
   "nbconvert_exporter": "python",
   "pygments_lexer": "ipython3",
   "version": "3.7.3"
  }
 },
 "nbformat": 4,
 "nbformat_minor": 2
}
