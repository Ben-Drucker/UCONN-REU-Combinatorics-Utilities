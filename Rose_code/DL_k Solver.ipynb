{
 "cells": [
  {
   "cell_type": "code",
   "execution_count": 135,
   "metadata": {},
   "outputs": [],
   "source": [
    "# We will cache answers to DL_k in DL_cheat_sheet. \n",
    "# i.e., we will make a dynamic program using DL_cheat_sheet.\n",
    "\n",
    "DL_cheat_sheet = {}\n",
    "\n",
    "def DL_k(p,k):\n",
    "    \n",
    "    global DL_cheat_sheet\n",
    "    \n",
    "    #convert Permutation to List\n",
    "    my_list = []\n",
    "    for elt in range(len(p)):\n",
    "        my_list.append(p(elt + 1))\n",
    "        \n",
    "    # We need to turn our input into something that python knows how to hash. i.e., a tuple of tuples\n",
    "    key = (tuple(my_list),k)\n",
    "    if (key in DL_cheat_sheet): \n",
    "        return DL_cheat_sheet[key]\n",
    "    \n",
    "    if (len(p) == 1):\n",
    "        return 1\n",
    "    if (k == 1):\n",
    "        size = permutation.to_standard(p).reverse().longest_increasing_subsequence_length()\n",
    "        return size\n",
    "            \n",
    "    DL = 0\n",
    "    for my_break in range(len(p) - 1):\n",
    "        p1 = my_list[:my_break+1]\n",
    "        p2 = my_list[my_break+1:]\n",
    "        if (k >= 2): #recurse\n",
    "            size1 = permutation.to_standard(p1).reverse().longest_increasing_subsequence_length()\n",
    "            size2 = DL_k(permutation.to_standard(p2),k-1)\n",
    "            value = size1 + size2\n",
    "            if (value > DL): DL = value\n",
    "                \n",
    "    #Adding to DL_cheat_sheet            \n",
    "    if (len(DL_cheat_sheet) <= 1000000): #DL_cheat_sheet stores the 1000000 most recent answers\n",
    "        DL_cheat_sheet[key] = DL\n",
    "    else:\n",
    "        DL_cheat_sheet = {}\n",
    "    return DL"
   ]
  },
  {
   "cell_type": "code",
   "execution_count": 63,
   "metadata": {},
   "outputs": [],
   "source": [
    "def DL(p):\n",
    "    DL = []\n",
    "    for k in range(len(p)):\n",
    "        DLk = DL_k(p,k+1)\n",
    "        DL.append(DLk)\n",
    "        if (DLk == len(p)): \n",
    "            return DL\n",
    "        "
   ]
  },
  {
   "cell_type": "code",
   "execution_count": 151,
   "metadata": {},
   "outputs": [],
   "source": [
    "def uL(p):\n",
    "    dl = DL(p)\n",
    "    uL = [dl[0]]\n",
    "    for ind in range(len(dl)-1):\n",
    "        uL.append(dl[ind+1]-dl[ind])\n",
    "    return uL"
   ]
  },
  {
   "cell_type": "code",
   "execution_count": 65,
   "metadata": {},
   "outputs": [],
   "source": [
    "def lambL(p):\n",
    "    ul = uL(p)\n",
    "    lambl = []\n",
    "    for ind in range(ul[0]):\n",
    "        parts = 0\n",
    "        for elt in range(len(ul)):\n",
    "            if (ul[elt] >= ind + 1): parts += 1\n",
    "        if (parts == 0): return lambl\n",
    "        lambl.append(parts)\n",
    "    return lambl"
   ]
  },
  {
   "cell_type": "code",
   "execution_count": 68,
   "metadata": {},
   "outputs": [],
   "source": [
    "def AL_k(p):\n",
    "    lambl = lambL(p)\n",
    "    ALk = [lambl[0]]\n",
    "    for ind in range(len(lambl) - 1):\n",
    "        ALk.append(ALk[ind] + lambl[ind + 1])\n",
    "    return ALk\n",
    "        "
   ]
  },
  {
   "cell_type": "code",
   "execution_count": 152,
   "metadata": {},
   "outputs": [
    {
     "name": "stdout",
     "output_type": "stream",
     "text": [
      "[3, 4, 5, 6]\n",
      "[3, 1, 1, 1]\n",
      "[4, 1, 1]\n",
      "[4, 5, 6]\n"
     ]
    }
   ],
   "source": [
    "import sage.combinat.permutation as permutation\n",
    "#p = Permutation([6,3,4,1,7,2,8,5])\n",
    "#p = Permutation([1,3,2,5,4])\n",
    "p = Permutation([4,5,2,3,6,1])\n",
    "\n",
    "print(DL(p))\n",
    "print(uL(p))\n",
    "print(lambL(p))\n",
    "print(AL_k(p))"
   ]
  },
  {
   "cell_type": "code",
   "execution_count": 147,
   "metadata": {
    "scrolled": false
   },
   "outputs": [
    {
     "name": "stdout",
     "output_type": "stream",
     "text": [
      "[1, 3, 2, 5, 4] Fail!\n",
      "[1, 3, 5, 2, 4] Fail!\n",
      "[1, 4, 2, 5, 3] Fail!\n",
      "[1, 4, 5, 2, 3] Fail!\n",
      "[2, 1, 3, 5, 4] Fail!\n",
      "[2, 1, 4, 3, 5] Fail!\n",
      "[2, 1, 4, 5, 3] Fail!\n",
      "[2, 1, 5, 3, 4] Fail!\n",
      "[2, 1, 5, 4, 3] Fail!\n",
      "[2, 3, 1, 5, 4] Fail!\n",
      "[2, 3, 5, 1, 4] Fail!\n",
      "[2, 4, 1, 3, 5] Fail!\n",
      "[2, 4, 1, 5, 3] Fail!\n",
      "[2, 4, 5, 1, 3] Fail!\n",
      "[2, 5, 1, 3, 4] Fail!\n",
      "[2, 5, 1, 4, 3] Fail!\n",
      "[2, 5, 4, 1, 3] Fail!\n",
      "[3, 1, 2, 5, 4] Fail!\n",
      "[3, 1, 4, 2, 5] Fail!\n",
      "[3, 1, 4, 5, 2] Fail!\n",
      "[3, 1, 5, 2, 4] Fail!\n",
      "[3, 1, 5, 4, 2] Fail!\n",
      "[3, 2, 1, 5, 4] Fail!\n",
      "[3, 2, 5, 1, 4] Fail!\n",
      "[3, 2, 5, 4, 1] Fail!\n",
      "[3, 4, 1, 2, 5] Fail!\n",
      "[3, 4, 1, 5, 2] Fail!\n",
      "[3, 4, 5, 1, 2] Fail!\n",
      "[3, 5, 1, 2, 4] Fail!\n",
      "[3, 5, 1, 4, 2] Fail!\n",
      "[3, 5, 2, 1, 4] Fail!\n",
      "[3, 5, 2, 4, 1] Fail!\n",
      "[3, 5, 4, 1, 2] Fail!\n",
      "[4, 1, 2, 5, 3] Fail!\n",
      "[4, 1, 5, 2, 3] Fail!\n",
      "[4, 1, 5, 3, 2] Fail!\n",
      "[4, 2, 1, 5, 3] Fail!\n",
      "[4, 2, 5, 1, 3] Fail!\n",
      "[4, 2, 5, 3, 1] Fail!\n",
      "[4, 3, 1, 5, 2] Fail!\n",
      "[4, 3, 5, 1, 2] Fail!\n",
      "[4, 5, 1, 2, 3] Fail!\n",
      "[4, 5, 1, 3, 2] Fail!\n",
      "[4, 5, 2, 1, 3] Fail!\n",
      "[4, 5, 2, 3, 1] Fail!\n",
      "[4, 5, 3, 1, 2] Fail!\n",
      "[5, 2, 1, 4, 3] Fail!\n",
      "[5, 2, 4, 1, 3] Fail!\n",
      "[5, 3, 1, 4, 2] Fail!\n",
      "[5, 3, 4, 1, 2] Fail!\n",
      "# failures: 50\n",
      "# successes: 70\n"
     ]
    }
   ],
   "source": [
    "#We want to see if finding Lambda_L is the same thing as reversing the permutation and finding u_L\n",
    "\n",
    "n = 5\n",
    "failures = 0\n",
    "successes = 0\n",
    "for p in Permutations(n):\n",
    "    lambl = lambL(p)\n",
    "    ul = uL(p.reverse())\n",
    "    if (lambl != ul): \n",
    "        print(p,'Fail!')\n",
    "        failures += 1\n",
    "\n",
    "print('# failures:',failures)\n",
    "print('# successes:',len(Permutations(n)) - failures)\n"
   ]
  },
  {
   "cell_type": "code",
   "execution_count": 110,
   "metadata": {},
   "outputs": [
    {
     "name": "stdout",
     "output_type": "stream",
     "text": [
      "[4, 2, 5, 1, 3]\n",
      "[3, 2]\n",
      "[3, 1, 1]\n",
      "# failures: 0\n",
      "# successes: 120\n"
     ]
    }
   ],
   "source": [
    "#let's compare mu_1 and muL_1:\n",
    "n = 5\n",
    "failures = 0\n",
    "successes = 0\n",
    "\n",
    "for p in Permutations(n):\n",
    "    p = Permutations(n).random_element()\n",
    "    u = p.RS_partition().conjugate()\n",
    "    ul = uL(p)\n",
    "    if (u[0] != ul[0]): failures += 1\n",
    "    \n",
    "print(p)\n",
    "print(u)\n",
    "print(ul)\n",
    "print('# failures:',failures)\n",
    "print('# successes:',len(Permutations(n)) - failures)"
   ]
  },
  {
   "cell_type": "code",
   "execution_count": 124,
   "metadata": {},
   "outputs": [
    {
     "name": "stdout",
     "output_type": "stream",
     "text": [
      "failures: 1\n",
      "permutation: [2, 4, 1, 3]\n",
      "lambda [2, 2]\n",
      "lambda L [3, 1]\n",
      "failures: 2\n",
      "permutation: [3, 4, 1, 2]\n",
      "lambda [2, 2]\n",
      "lambda L [3, 1]\n",
      "# failures: 2\n",
      "# successes: 22\n"
     ]
    }
   ],
   "source": [
    "#let's compare the # of positive parts of lambda and lambda_L:\n",
    "n = 4\n",
    "failures = 0\n",
    "successes = 0\n",
    "for p in Permutations(n):\n",
    "    lamb = p.RS_partition()\n",
    "    lambdal = lambL(p)\n",
    "    if (lamb[0] != lambdal[0]):\n",
    "        failures += 1\n",
    "        print('failures:',failures)\n",
    "        print('permutation:',p)\n",
    "        print('lambda',lamb)\n",
    "        print('lambda L',lambdal)\n",
    "        \n",
    "\n",
    "print('# failures:',failures)\n",
    "print('# successes:',len(Permutations(n)) - failures)"
   ]
  },
  {
   "cell_type": "code",
   "execution_count": null,
   "metadata": {},
   "outputs": [],
   "source": []
  },
  {
   "cell_type": "code",
   "execution_count": null,
   "metadata": {},
   "outputs": [],
   "source": []
  },
  {
   "cell_type": "code",
   "execution_count": null,
   "metadata": {},
   "outputs": [],
   "source": []
  }
 ],
 "metadata": {
  "kernelspec": {
   "display_name": "SageMath 9.1",
   "language": "sage",
   "name": "sagemath"
  },
  "language_info": {
   "codemirror_mode": {
    "name": "ipython",
    "version": 3
   },
   "file_extension": ".py",
   "mimetype": "text/x-python",
   "name": "python",
   "nbconvert_exporter": "python",
   "pygments_lexer": "ipython3",
   "version": "3.7.3"
  }
 },
 "nbformat": 4,
 "nbformat_minor": 2
}
