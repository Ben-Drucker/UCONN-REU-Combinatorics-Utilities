{
 "cells": [
  {
   "cell_type": "code",
   "execution_count": 197,
   "metadata": {},
   "outputs": [],
   "source": [
    "from itertools import permutations"
   ]
  },
  {
   "cell_type": "code",
   "execution_count": 198,
   "metadata": {},
   "outputs": [],
   "source": [
    "from itertools import combinations"
   ]
  },
  {
   "cell_type": "code",
   "execution_count": 235,
   "metadata": {},
   "outputs": [],
   "source": [
    "permLength = 9"
   ]
  },
  {
   "cell_type": "code",
   "execution_count": 236,
   "metadata": {},
   "outputs": [],
   "source": [
    "baseSet = []\n",
    "for i in range(permLength):\n",
    "    baseSet.append(i+1)"
   ]
  },
  {
   "cell_type": "code",
   "execution_count": 237,
   "metadata": {},
   "outputs": [],
   "source": [
    "permsOfLength = list(permutations(baseSet))"
   ]
  },
  {
   "cell_type": "code",
   "execution_count": 238,
   "metadata": {},
   "outputs": [],
   "source": [
    "def check():\n",
    "    result = []\n",
    "    for perm in permsOfLength:\n",
    "        if isIncreasing(main(perm))==False:\n",
    "            result.append(isIncreasing(main(perm)))\n",
    "    return result"
   ]
  },
  {
   "cell_type": "code",
   "execution_count": 239,
   "metadata": {},
   "outputs": [
    {
     "data": {
      "text/plain": [
       "[]"
      ]
     },
     "execution_count": 239,
     "metadata": {},
     "output_type": "execute_result"
    }
   ],
   "source": [
    "check()"
   ]
  },
  {
   "cell_type": "code",
   "execution_count": 205,
   "metadata": {},
   "outputs": [],
   "source": [
    "def isIncreasing(chunks):\n",
    "    for ls in chunks:\n",
    "        for i in range(len(ls)-1):\n",
    "            if not ls[i]<ls[i+1]:\n",
    "                return False\n",
    "    return True"
   ]
  },
  {
   "cell_type": "code",
   "execution_count": 206,
   "metadata": {},
   "outputs": [],
   "source": [
    "def main(Perm):\n",
    "    placedElts = []\n",
    "    longestDecrElts = longestDecr(Perm)\n",
    "    chunks = []\n",
    "    done = False\n",
    "    for elt in longestDecrElts:\n",
    "        chunks.append([elt])\n",
    "    eltsToPlace = []\n",
    "    for elt in Perm:\n",
    "        if not elt in longestDecrElts:\n",
    "            eltsToPlace.append(elt)\n",
    "    for salientList in chunks:#Filling chunks, left\n",
    "        if len(eltsToPlace)!=0:\n",
    "            base = salientList[0]\n",
    "            #print(base)\n",
    "            subPerm = list(Perm[:Perm.index(base)])\n",
    "            subPerm.reverse()\n",
    "            for elt in subPerm:#Checking each elt in perm\n",
    "                #print(\"elt,\",elt)\n",
    "                if elt in eltsToPlace:#Check if elt needs to be placed\n",
    "                    #print(\"elt2,\",elt)\n",
    "                    if elt < base:\n",
    "                        #print(\"elt3,\",elt)\n",
    "                        if Perm.index(base)>Perm.index(elt):\n",
    "                            #print(\"elt4,\",elt)\n",
    "                            salientList.insert(0, elt)\n",
    "                            eltsToPlace.remove(elt)\n",
    "                            base = elt\n",
    "    for salientList in chunks:#Filling chunks, left\n",
    "        if len(eltsToPlace)!=0:\n",
    "            base = salientList[0]\n",
    "            #print(base)\n",
    "            subPerm = Perm[Perm.index(base):]\n",
    "            for elt in subPerm:#Checking each elt in perm\n",
    "                #print(\"elt,\",elt)\n",
    "                if elt in eltsToPlace:#Check if elt needs to be placed\n",
    "                    #print(\"elt2,\",elt)\n",
    "                    if elt < base:\n",
    "                        #print(\"elt3,\",elt)\n",
    "                        if Perm.index(base)>Perm.index(elt):\n",
    "                            #print(\"elt4,\",elt)\n",
    "                            salientList.insert(0, elt)\n",
    "                            eltsToPlace.remove(elt)\n",
    "                            base = elt\n",
    "    return chunks"
   ]
  },
  {
   "cell_type": "code",
   "execution_count": 207,
   "metadata": {},
   "outputs": [],
   "source": [
    "def longestDecr(Perm):\n",
    "    longest = []\n",
    "    if len(Perm)==1:\n",
    "        return Perm\n",
    "    candidates = []\n",
    "    combs = []\n",
    "    for j in range(1,len(Perm)+1):\n",
    "        combs.append(list(combinations(Perm,j)))\n",
    "    newlist = []\n",
    "    for elt in combs:\n",
    "        for lelt in elt:\n",
    "            newlist.append(lelt)\n",
    "    for com in newlist:\n",
    "        decr = True\n",
    "        for i in range(len(com)-1):\n",
    "            if com[i] < com[i+1]:\n",
    "                decr = False\n",
    "        if decr == True:\n",
    "            candidates.append(com)\n",
    "    for can in candidates:\n",
    "        if len(can)>len(longest):\n",
    "            longest = can\n",
    "    return longest"
   ]
  },
  {
   "cell_type": "code",
   "execution_count": 208,
   "metadata": {},
   "outputs": [
    {
     "data": {
      "text/plain": [
       "[[1, 2, 3, 5], [4]]"
      ]
     },
     "execution_count": 208,
     "metadata": {},
     "output_type": "execute_result"
    }
   ],
   "source": [
    "main([1,2,3,5,4])"
   ]
  },
  {
   "cell_type": "code",
   "execution_count": null,
   "metadata": {},
   "outputs": [],
   "source": []
  },
  {
   "cell_type": "code",
   "execution_count": null,
   "metadata": {},
   "outputs": [],
   "source": []
  },
  {
   "cell_type": "code",
   "execution_count": null,
   "metadata": {},
   "outputs": [],
   "source": []
  }
 ],
 "metadata": {
  "kernelspec": {
   "display_name": "SageMath 9.1",
   "language": "sage",
   "name": "sagemath"
  },
  "language_info": {
   "codemirror_mode": {
    "name": "ipython",
    "version": 3
   },
   "file_extension": ".py",
   "mimetype": "text/x-python",
   "name": "python",
   "nbconvert_exporter": "python",
   "pygments_lexer": "ipython3",
   "version": "3.7.3"
  }
 },
 "nbformat": 4,
 "nbformat_minor": 2
}
